{
  "nbformat": 4,
  "nbformat_minor": 0,
  "metadata": {
    "colab": {
      "provenance": [],
      "include_colab_link": true
    },
    "kernelspec": {
      "name": "python3",
      "display_name": "Python 3"
    },
    "language_info": {
      "name": "python"
    }
  },
  "cells": [
    {
      "cell_type": "markdown",
      "metadata": {
        "id": "view-in-github",
        "colab_type": "text"
      },
      "source": [
        "<a href=\"https://colab.research.google.com/github/jelade/Neural-Network-from-scratch/blob/main/Jaleel_NN_Tutorial.ipynb\" target=\"_parent\"><img src=\"https://colab.research.google.com/assets/colab-badge.svg\" alt=\"Open In Colab\"/></a>"
      ]
    },
    {
      "cell_type": "code",
      "execution_count": 53,
      "metadata": {
        "id": "yYaKNXEtP0Pm"
      },
      "outputs": [],
      "source": [
        "import numpy as np\n",
        "import pandas as pd\n",
        "import matplotlib.pyplot as plt\n",
        "np.random.seed(1)\n",
        "from IPython import display"
      ]
    },
    {
      "cell_type": "code",
      "source": [],
      "metadata": {
        "id": "kV2TPzyRcWa5"
      },
      "execution_count": null,
      "outputs": []
    },
    {
      "cell_type": "code",
      "source": [
        "from google.colab import drive\n",
        "drive.mount('/content/drive')"
      ],
      "metadata": {
        "colab": {
          "base_uri": "https://localhost:8080/"
        },
        "id": "fH5PBr6f-x4n",
        "outputId": "9fe755f5-8527-4902-ea4b-e0c15652e1c3"
      },
      "execution_count": 54,
      "outputs": [
        {
          "output_type": "stream",
          "name": "stdout",
          "text": [
            "Drive already mounted at /content/drive; to attempt to forcibly remount, call drive.mount(\"/content/drive\", force_remount=True).\n"
          ]
        }
      ]
    },
    {
      "cell_type": "code",
      "source": [
        "\n",
        "path= '/content/drive/MyDrive/diabetes.csv'\n",
        "data= pd.read_csv(path)\n",
        "data.head()"
      ],
      "metadata": {
        "colab": {
          "base_uri": "https://localhost:8080/",
          "height": 204
        },
        "id": "pZ6cQNQ1P7Ib",
        "outputId": "645ab8d9-7b2e-4584-9650-09593ec103e1"
      },
      "execution_count": 376,
      "outputs": [
        {
          "output_type": "execute_result",
          "data": {
            "text/plain": [
              "   Pregnancies  Glucose  BloodPressure  SkinThickness  Insulin   BMI  \\\n",
              "0            6      148             72             35        0  33.6   \n",
              "1            1       85             66             29        0  26.6   \n",
              "2            8      183             64              0        0  23.3   \n",
              "3            1       89             66             23       94  28.1   \n",
              "4            0      137             40             35      168  43.1   \n",
              "\n",
              "   DiabetesPedigreeFunction  Age  Outcome  \n",
              "0                     0.627   50        1  \n",
              "1                     0.351   31        0  \n",
              "2                     0.672   32        1  \n",
              "3                     0.167   21        0  \n",
              "4                     2.288   33        1  "
            ],
            "text/html": [
              "\n",
              "  <div id=\"df-0e8f5abf-1de7-4955-9e33-7c9749896f6b\">\n",
              "    <div class=\"colab-df-container\">\n",
              "      <div>\n",
              "<style scoped>\n",
              "    .dataframe tbody tr th:only-of-type {\n",
              "        vertical-align: middle;\n",
              "    }\n",
              "\n",
              "    .dataframe tbody tr th {\n",
              "        vertical-align: top;\n",
              "    }\n",
              "\n",
              "    .dataframe thead th {\n",
              "        text-align: right;\n",
              "    }\n",
              "</style>\n",
              "<table border=\"1\" class=\"dataframe\">\n",
              "  <thead>\n",
              "    <tr style=\"text-align: right;\">\n",
              "      <th></th>\n",
              "      <th>Pregnancies</th>\n",
              "      <th>Glucose</th>\n",
              "      <th>BloodPressure</th>\n",
              "      <th>SkinThickness</th>\n",
              "      <th>Insulin</th>\n",
              "      <th>BMI</th>\n",
              "      <th>DiabetesPedigreeFunction</th>\n",
              "      <th>Age</th>\n",
              "      <th>Outcome</th>\n",
              "    </tr>\n",
              "  </thead>\n",
              "  <tbody>\n",
              "    <tr>\n",
              "      <th>0</th>\n",
              "      <td>6</td>\n",
              "      <td>148</td>\n",
              "      <td>72</td>\n",
              "      <td>35</td>\n",
              "      <td>0</td>\n",
              "      <td>33.6</td>\n",
              "      <td>0.627</td>\n",
              "      <td>50</td>\n",
              "      <td>1</td>\n",
              "    </tr>\n",
              "    <tr>\n",
              "      <th>1</th>\n",
              "      <td>1</td>\n",
              "      <td>85</td>\n",
              "      <td>66</td>\n",
              "      <td>29</td>\n",
              "      <td>0</td>\n",
              "      <td>26.6</td>\n",
              "      <td>0.351</td>\n",
              "      <td>31</td>\n",
              "      <td>0</td>\n",
              "    </tr>\n",
              "    <tr>\n",
              "      <th>2</th>\n",
              "      <td>8</td>\n",
              "      <td>183</td>\n",
              "      <td>64</td>\n",
              "      <td>0</td>\n",
              "      <td>0</td>\n",
              "      <td>23.3</td>\n",
              "      <td>0.672</td>\n",
              "      <td>32</td>\n",
              "      <td>1</td>\n",
              "    </tr>\n",
              "    <tr>\n",
              "      <th>3</th>\n",
              "      <td>1</td>\n",
              "      <td>89</td>\n",
              "      <td>66</td>\n",
              "      <td>23</td>\n",
              "      <td>94</td>\n",
              "      <td>28.1</td>\n",
              "      <td>0.167</td>\n",
              "      <td>21</td>\n",
              "      <td>0</td>\n",
              "    </tr>\n",
              "    <tr>\n",
              "      <th>4</th>\n",
              "      <td>0</td>\n",
              "      <td>137</td>\n",
              "      <td>40</td>\n",
              "      <td>35</td>\n",
              "      <td>168</td>\n",
              "      <td>43.1</td>\n",
              "      <td>2.288</td>\n",
              "      <td>33</td>\n",
              "      <td>1</td>\n",
              "    </tr>\n",
              "  </tbody>\n",
              "</table>\n",
              "</div>\n",
              "      <button class=\"colab-df-convert\" onclick=\"convertToInteractive('df-0e8f5abf-1de7-4955-9e33-7c9749896f6b')\"\n",
              "              title=\"Convert this dataframe to an interactive table.\"\n",
              "              style=\"display:none;\">\n",
              "        \n",
              "  <svg xmlns=\"http://www.w3.org/2000/svg\" height=\"24px\"viewBox=\"0 0 24 24\"\n",
              "       width=\"24px\">\n",
              "    <path d=\"M0 0h24v24H0V0z\" fill=\"none\"/>\n",
              "    <path d=\"M18.56 5.44l.94 2.06.94-2.06 2.06-.94-2.06-.94-.94-2.06-.94 2.06-2.06.94zm-11 1L8.5 8.5l.94-2.06 2.06-.94-2.06-.94L8.5 2.5l-.94 2.06-2.06.94zm10 10l.94 2.06.94-2.06 2.06-.94-2.06-.94-.94-2.06-.94 2.06-2.06.94z\"/><path d=\"M17.41 7.96l-1.37-1.37c-.4-.4-.92-.59-1.43-.59-.52 0-1.04.2-1.43.59L10.3 9.45l-7.72 7.72c-.78.78-.78 2.05 0 2.83L4 21.41c.39.39.9.59 1.41.59.51 0 1.02-.2 1.41-.59l7.78-7.78 2.81-2.81c.8-.78.8-2.07 0-2.86zM5.41 20L4 18.59l7.72-7.72 1.47 1.35L5.41 20z\"/>\n",
              "  </svg>\n",
              "      </button>\n",
              "      \n",
              "  <style>\n",
              "    .colab-df-container {\n",
              "      display:flex;\n",
              "      flex-wrap:wrap;\n",
              "      gap: 12px;\n",
              "    }\n",
              "\n",
              "    .colab-df-convert {\n",
              "      background-color: #E8F0FE;\n",
              "      border: none;\n",
              "      border-radius: 50%;\n",
              "      cursor: pointer;\n",
              "      display: none;\n",
              "      fill: #1967D2;\n",
              "      height: 32px;\n",
              "      padding: 0 0 0 0;\n",
              "      width: 32px;\n",
              "    }\n",
              "\n",
              "    .colab-df-convert:hover {\n",
              "      background-color: #E2EBFA;\n",
              "      box-shadow: 0px 1px 2px rgba(60, 64, 67, 0.3), 0px 1px 3px 1px rgba(60, 64, 67, 0.15);\n",
              "      fill: #174EA6;\n",
              "    }\n",
              "\n",
              "    [theme=dark] .colab-df-convert {\n",
              "      background-color: #3B4455;\n",
              "      fill: #D2E3FC;\n",
              "    }\n",
              "\n",
              "    [theme=dark] .colab-df-convert:hover {\n",
              "      background-color: #434B5C;\n",
              "      box-shadow: 0px 1px 3px 1px rgba(0, 0, 0, 0.15);\n",
              "      filter: drop-shadow(0px 1px 2px rgba(0, 0, 0, 0.3));\n",
              "      fill: #FFFFFF;\n",
              "    }\n",
              "  </style>\n",
              "\n",
              "      <script>\n",
              "        const buttonEl =\n",
              "          document.querySelector('#df-0e8f5abf-1de7-4955-9e33-7c9749896f6b button.colab-df-convert');\n",
              "        buttonEl.style.display =\n",
              "          google.colab.kernel.accessAllowed ? 'block' : 'none';\n",
              "\n",
              "        async function convertToInteractive(key) {\n",
              "          const element = document.querySelector('#df-0e8f5abf-1de7-4955-9e33-7c9749896f6b');\n",
              "          const dataTable =\n",
              "            await google.colab.kernel.invokeFunction('convertToInteractive',\n",
              "                                                     [key], {});\n",
              "          if (!dataTable) return;\n",
              "\n",
              "          const docLinkHtml = 'Like what you see? Visit the ' +\n",
              "            '<a target=\"_blank\" href=https://colab.research.google.com/notebooks/data_table.ipynb>data table notebook</a>'\n",
              "            + ' to learn more about interactive tables.';\n",
              "          element.innerHTML = '';\n",
              "          dataTable['output_type'] = 'display_data';\n",
              "          await google.colab.output.renderOutput(dataTable, element);\n",
              "          const docLink = document.createElement('div');\n",
              "          docLink.innerHTML = docLinkHtml;\n",
              "          element.appendChild(docLink);\n",
              "        }\n",
              "      </script>\n",
              "    </div>\n",
              "  </div>\n",
              "  "
            ]
          },
          "metadata": {},
          "execution_count": 376
        }
      ]
    },
    {
      "cell_type": "code",
      "source": [
        "def scale(x):\n",
        "  \"\"\"\n",
        "  Parameters\n",
        "  -------\n",
        "    x: dataframe\n",
        "\n",
        "  Returns\n",
        "  -------\n",
        "    x_scaled: dataframe\n",
        "  \n",
        "  \"\"\"\n",
        "  x_scaled= (x-np.mean(x, axis = 0))/np.std(x)\n",
        "  return x_scaled"
      ],
      "metadata": {
        "id": "YZR3a0LDQDaT"
      },
      "execution_count": 377,
      "outputs": []
    },
    {
      "cell_type": "code",
      "source": [
        "def split_data(df, train_percent= 0.8):\n",
        "  \"\"\"\n",
        "  Parameters\n",
        "  -------\n",
        "    df: a dataframe\n",
        "    train_percent: a float\n",
        "    \n",
        "\n",
        "  Returns\n",
        "  -------\n",
        "    \n",
        "    x_train: an array\n",
        "    x_test: an array \n",
        "    y_train: an array\n",
        "    y_test: an array\n",
        "  \n",
        "  \"\"\"\n",
        "\n",
        "  X = df.iloc[:,:-1]\n",
        "  y= df.iloc[:,-1]\n",
        "  np.random.seed(0) # To demonstrate that if we use the same seed value twice, we will get the same random number twice\n",
        "  \n",
        "  #train_size = 0.8\n",
        "  n = int(X.shape[0]*train_percent)\n",
        "  indices = np.arange(X.shape[0])\n",
        "  np.random.shuffle(indices)\n",
        "  train_idx = indices[: n]\n",
        "  test_idx = indices[n:]\n",
        "  x_train, y_train = X.iloc[train_idx,:], y[train_idx]\n",
        "  x_test, y_test = X.iloc[test_idx,:], y[test_idx]\n",
        "\n",
        "  return x_train, x_test, y_train, y_test"
      ],
      "metadata": {
        "id": "uE20qrSCQUuw"
      },
      "execution_count": 378,
      "outputs": []
    },
    {
      "cell_type": "code",
      "source": [
        "x_train, x_test, y_train, y_test= split_data(data) \n",
        "x_train.shape, y_train.shape, x_test.shape, y_test.shape"
      ],
      "metadata": {
        "colab": {
          "base_uri": "https://localhost:8080/"
        },
        "id": "e4FPLvDiQnzL",
        "outputId": "350b6758-7a2e-4e97-9eab-802c1272fbe2"
      },
      "execution_count": 379,
      "outputs": [
        {
          "output_type": "execute_result",
          "data": {
            "text/plain": [
              "((614, 8), (614,), (154, 8), (154,))"
            ]
          },
          "metadata": {},
          "execution_count": 379
        }
      ]
    },
    {
      "cell_type": "code",
      "source": [],
      "metadata": {
        "id": "YkFjNNgrYRYj"
      },
      "execution_count": 379,
      "outputs": []
    },
    {
      "cell_type": "code",
      "source": [
        "x_train = scale(x_train).to_numpy()\n",
        "x_test = scale(x_test).to_numpy()\n",
        "y_test = y_test.to_numpy()\n",
        "y_train = y_train.to_numpy()"
      ],
      "metadata": {
        "id": "abHtUfyOQGCe"
      },
      "execution_count": 380,
      "outputs": []
    },
    {
      "cell_type": "code",
      "source": [
        "def sigmoid(x):\n",
        "  \"\"\"\n",
        "  Parameters\n",
        "  ----------\n",
        "    x: an array\n",
        "\n",
        "  return\n",
        "  ------\n",
        "\n",
        "    y: 1/(1+exp(-x))\n",
        "\n",
        "      a list of value between 0 and 1\n",
        "  \"\"\"\n",
        "\n",
        "  y = 1/(1+ np.exp(-x))\n",
        "  return y"
      ],
      "metadata": {
        "id": "cnkR9elPQvS3"
      },
      "execution_count": 381,
      "outputs": []
    },
    {
      "cell_type": "code",
      "source": [
        "def dsigmoid(x):\n",
        "  \"\"\"\n",
        "  Parameters\n",
        "  ----------\n",
        "    x: an array\n",
        "\n",
        "  return\n",
        "  ------\n",
        "\n",
        "    y: sigmoid(x)*(1- sigmoid(x))\n",
        "\n",
        "      a list of value of the derivative of sigmoid\n",
        "  \"\"\"\n",
        "\n",
        "  y = sigmoid(x)*(1- sigmoid(x))\n",
        "  return y"
      ],
      "metadata": {
        "id": "nyaJzqQjQu7M"
      },
      "execution_count": 382,
      "outputs": []
    },
    {
      "cell_type": "code",
      "source": [
        "def cross_entropy(y,y_pred):\n",
        "  \"\"\"\n",
        "  Parameters\n",
        "  ----------\n",
        "    y: an array\n",
        "    y_pred: array\n",
        "\n",
        "  return\n",
        "  ------\n",
        "   : float\n",
        "  \"\"\"\n",
        "  loss = -(np.mean((y*np.log(y_pred))+(1-y)*np.log(1-y_pred)))\n",
        "  return loss"
      ],
      "metadata": {
        "id": "SBH8s6GBRAbh"
      },
      "execution_count": 399,
      "outputs": []
    },
    {
      "cell_type": "code",
      "source": [
        "def forward_pass(x, w1, b1, w2, b2):\n",
        "  \"\"\"\n",
        "  Parameters\n",
        "  ---------\n",
        "    x: an array of N rows\n",
        "    w1: an array of shape (hidden_dim, input_dim)\n",
        "    b1: an array of shape (hidden_dim, 1). Bias vector\n",
        "    w2: an array of shape (output_dim, hidden_dim)\n",
        "    b2: an array of shape (1, 1)\n",
        "  \n",
        "  Return\n",
        "  ------\n",
        "    z1: an array of shape (N, hidden_dim)\n",
        "    a1: an array of shape (N, hidden_dim)\n",
        "    z2: an array of shape (N, output_dim)\n",
        "    a2: an array of shape (N, output_dim)\n",
        "  \"\"\"\n",
        "  z1=  w1@x.T + b1\n",
        "  a1= sigmoid(z1)\n",
        "\n",
        "  z2= w2@a1 + b2\n",
        "  a2= sigmoid(z2)\n",
        "\n",
        "\n",
        "  return z1, a1, z2, a2"
      ],
      "metadata": {
        "id": "2TsS0tmbRuVx"
      },
      "execution_count": 400,
      "outputs": []
    },
    {
      "cell_type": "code",
      "source": [],
      "metadata": {
        "id": "soMTE_yvjB2o"
      },
      "execution_count": 400,
      "outputs": []
    },
    {
      "cell_type": "code",
      "source": [
        "def backwardpass(x,y, w1, b1, w2, b2):\n",
        "  \"\"\"\n",
        "  Parameters\n",
        "  ---------\n",
        "    x:  an array of N rows\n",
        "    y:  an array of N rows\n",
        "    w1: an array of shape (hidden_dim, input_dim)\n",
        "    b1: an array of shape (hidden_dim, 1). Bias vector\n",
        "    w2: an array of shape (output_dim, hidden_dim)\n",
        "    b2: an array of shape (1, 1)\n",
        "  \n",
        "  Return\n",
        "  ------\n",
        "    dw1: an array of shape (hidden_dim, input_dim)\n",
        "    db1: an array of shape (hidden_dim, 1). Bias vector\n",
        "    dw2: an array of shape (output_dim, hidden_dim)\n",
        "    db2: an array of shape (1, 1)\n",
        "  \"\"\"\n",
        "  \n",
        "  # Forward pass\n",
        "  \n",
        "  z1, a1, z2, a2= forward_pass(x, w1, b1, w2, b2)\n",
        "  m = x.shape[0]\n",
        "  #Backward\n",
        "  dw1= ((w2.T@(a2-y)*dsigmoid(z1))@x)/m\n",
        "  db1= np.sum((w2.T@(a2-y))*(dsigmoid(z1)), axis = 1, keepdims=True)/m\n",
        "\n",
        "\n",
        "\n",
        "\n",
        "  dw2= ((a2-y)@a1.T)/m\n",
        "  db2= np.sum(a2-y, axis = 1, keepdims = True)/m\n",
        "\n",
        "  return dw1, db1, dw2, db2"
      ],
      "metadata": {
        "id": "R8i_pToSSXVp"
      },
      "execution_count": 401,
      "outputs": []
    },
    {
      "cell_type": "code",
      "source": [
        "def train(x,y, x_val, y_val):\n",
        "  \"\"\"\n",
        "  Parameters\n",
        "  ---------\n",
        "    x:  an array of N rows\n",
        "    y:  an array of N rows\n",
        "    w1: an array of shape (hidden_dim, input_dim)\n",
        "    b1: an array of shape (hidden_dim, 1). Bias vector\n",
        "    w2: an array of shape (output_dim, hidden_dim)\n",
        "    b2: an array of shape (1, 1)\n",
        "  \n",
        "  Return\n",
        "  ------\n",
        "    cost: an array of shape (num_epochs, )\n",
        "    cost_test: an array of shape (num_epochs, ).\n",
        "    w1: an array of shape (hidden_dim, input_dim)\n",
        "    b1: an array of shape (hidden_dim, 1). Bias vector\n",
        "    w2: an array of shape (output_dim, hidden_dim)\n",
        "    b2: an array of shape (1, 1)\n",
        "  \"\"\"\n",
        "  input_dim= x.shape[1] # number of features\n",
        "  hidden_dim=16  # number of units in the hideen layer\n",
        "  output_dim= 1 # number of units in the output layer\n",
        "  w1 = np.random.rand(hidden_dim, input_dim)*0.01 # (hidden_dim, input_dim)\n",
        "  b1 = np.random.rand(hidden_dim,1) # (hidden_dim, 1)\n",
        "\n",
        "  w2 = np.random.rand(output_dim, hidden_dim)*0.01 # (output_dim, hidden_dim)\n",
        "  b2 = np.random.rand(output_dim, 1) # (output_dim, 1)\n",
        "  lr = 0.001\n",
        "  num_epochs = 1000\n",
        "\n",
        "  cost =[]\n",
        "  cost_test= []\n",
        "\n",
        "  for i in range(num_epochs):\n",
        "      # Backward Pass\n",
        "      dw1, db1, dw2, db2 = backwardpass(x,y, w1, b1, w2, b2)\n",
        "\n",
        "      # Update weights\n",
        "      w1 = w1 - (lr*dw1)\n",
        "      b1= b1- (lr*db1)\n",
        "\n",
        "\n",
        "      w2 = w2 - (lr*dw2)\n",
        "      b2= b2- (lr*db2)\n",
        "      # Get the Train Loss\n",
        "      # apply forward to get z1, a1, z2 and a2\n",
        "      z1, a1, z2, a2 = forward_pass(x, w1, b1, w2, b2)\n",
        "\n",
        "      #Compute the loss\n",
        "      loss_train = cross_entropy(y,a2)\n",
        "      cost.append(loss_train)\n",
        "\n",
        "\n",
        "      # Get the Test Loss\n",
        "      # apply forward to get z1, a1, z2 and a2 using x_val\n",
        "\n",
        "      z1, a1, z2, a2 = forward_pass(x_val, w1, b1, w2, b2)\n",
        "      loss_test = cross_entropy(y_val,a2)\n",
        "      cost_test.append(loss_test)\n",
        "  \n",
        "  return cost, cost_test, w1, b1, w2, b2"
      ],
      "metadata": {
        "id": "FqiK4uIhSaAw"
      },
      "execution_count": 402,
      "outputs": []
    },
    {
      "cell_type": "code",
      "source": [
        "def accuracy(y, y_pred):\n",
        "  acc= np.mean(y == y_pred)\n",
        "  return acc"
      ],
      "metadata": {
        "id": "n6LNhbbOStNm"
      },
      "execution_count": 404,
      "outputs": []
    },
    {
      "cell_type": "code",
      "source": [
        "threshold= 0.5\n",
        "def get_class(x):\n",
        "  _,_,_,proba= forward_pass(x, w1, b1, w2, b2) # Get probability of x\n",
        "  proba= proba.squeeze(0)\n",
        "  result= [1 if i> threshold else 0 for i in proba] # Convert proba to 0 or 1. hint: list comprehension\n",
        "  return np.array(result), proba"
      ],
      "metadata": {
        "id": "VTeTNcFEVf2N"
      },
      "execution_count": 405,
      "outputs": []
    },
    {
      "cell_type": "code",
      "source": [
        "cost, cost_test, w1, b1, w2, b2= train(x_train,y_train, x_test, y_test)"
      ],
      "metadata": {
        "id": "uurTCEclScpu"
      },
      "execution_count": 406,
      "outputs": []
    },
    {
      "cell_type": "code",
      "source": [],
      "metadata": {
        "id": "5ze9ano-Twnu"
      },
      "execution_count": 406,
      "outputs": []
    },
    {
      "cell_type": "code",
      "source": [
        "def plot(cost, cost_test):\n",
        "  plt.xlabel('Epochs')\n",
        "  plt.ylabel('Cost')\n",
        "  plt.plot(np.arange(len(cost)), cost, 'r', linewidth = \"2\", label= 'Train Loss')\n",
        "  plt.plot(np.arange(len(cost_test)), cost_test, 'b', linewidth = \"2\", label= 'Validation Loss')\n",
        "  plt.legend()\n",
        "  plt.show()\n",
        "  \n",
        "plot(cost, cost_test)"
      ],
      "metadata": {
        "colab": {
          "base_uri": "https://localhost:8080/",
          "height": 279
        },
        "id": "oYAvfW1uShKe",
        "outputId": "c27e12e6-3f6b-48f3-c827-d19caf186d76"
      },
      "execution_count": 407,
      "outputs": [
        {
          "output_type": "display_data",
          "data": {
            "text/plain": [
              "<Figure size 432x288 with 1 Axes>"
            ],
            "image/png": "[encoded data removed]"
          },
          "metadata": {
            "needs_background": "light"
          }
        }
      ]
    },
    {
      "cell_type": "code",
      "source": [
        "y_pred, y_proba= get_class(x_test)"
      ],
      "metadata": {
        "id": "iykwA03WVlna"
      },
      "execution_count": 408,
      "outputs": []
    },
    {
      "cell_type": "code",
      "source": [
        "accuracy(y_test, y_pred)"
      ],
      "metadata": {
        "colab": {
          "base_uri": "https://localhost:8080/"
        },
        "id": "Ebun_QC3S0d9",
        "outputId": "341bc510-0b12-4524-83c5-8f5c8637d583"
      },
      "execution_count": 409,
      "outputs": [
        {
          "output_type": "execute_result",
          "data": {
            "text/plain": [
              "0.6818181818181818"
            ]
          },
          "metadata": {},
          "execution_count": 409
        }
      ]
    },
    {
      "cell_type": "markdown",
      "source": [
        "# NN Class"
      ],
      "metadata": {
        "id": "7G7QcBAW2RGr"
      }
    },
    {
      "cell_type": "code",
      "source": [
        "# BGD\n",
        "class NN:\n",
        "  def __init__(self, x_test, y_test, size, num_epochs= 1000, lr= 0.001, threshold= 0.5):\n",
        "    self.num_epochs= num_epochs\n",
        "    self.lr= lr\n",
        "    self.threshold= threshold\n",
        "    self.cost_train= []\n",
        "    self.size= size\n",
        "    self.x_test= x_test\n",
        "    self.y_test= y_test\n",
        "    self.params= self.weight_initialization()\n",
        "\n",
        "  def sigmoid(self,x):\n",
        "    y = 1/(1+ np.exp(-x))\n",
        "    return y\n",
        "  \n",
        "  def dsigmoid(self,x):\n",
        "    y = sigmoid(x)*(1- sigmoid(x))\n",
        "    return y\n",
        "\n",
        "\n",
        "  def cross_entropy(self,y,y_pred):\n",
        "    loss = -(np.mean((y*np.log(y_pred))+(1-y)*np.log(1-y_pred)))\n",
        "    return loss\n",
        "  \n",
        "  def weight_initialization(self):\n",
        "    input_dim= self.size[0]\n",
        "    hidden_dim= self.size[1]\n",
        "    output_dim= self.size[2]\n",
        "\n",
        "\n",
        "    params = {\n",
        "            'w1':np.random.rand(hidden_dim, input_dim)*0.01,\n",
        "            'b1':np.random.rand(hidden_dim,1),\n",
        "            'w2':np.random.rand(output_dim, hidden_dim)*0.01,\n",
        "            'b2':np.random.rand(output_dim,1) \n",
        "        }\n",
        "\n",
        "    return params\n",
        "\n",
        "  def forward_pass(self, x):\n",
        "    params= self.params\n",
        "    z1=  params[\"w1\"]@x.T + params[\"b1\"]\n",
        "    a1= self.sigmoid(z1)\n",
        "\n",
        "    z2= params[\"w2\"]@a1 + params[\"b2\"]\n",
        "    a2= self.sigmoid(z2)\n",
        "\n",
        "\n",
        "    \n",
        "\n",
        "    # ForwardPass\n",
        "   \n",
        "    return z1, a1, z2, a2\n",
        "  \n",
        "  def backward_pass(self, x, y):\n",
        "    params= self.params\n",
        "\n",
        "    # Backward\n",
        "  # Forward pass\n",
        "  \n",
        "    z1, a1, z2, a2= self.forward_pass(x)\n",
        "    m = x.shape[0]\n",
        "  #Backward\n",
        "    dw1= ((params[\"w2\"].T@(a2-y)*self.dsigmoid(z1))@x)/m\n",
        "    db1= np.sum((params[\"w2\"].T@(a2-y))*(self.dsigmoid(z1)), axis = 1, keepdims=True)/m\n",
        "\n",
        "\n",
        "\n",
        "\n",
        "    dw2= ((a2-y)@a1.T)/m\n",
        "    db2= np.sum(a2-y, axis = 1, keepdims = True)/m\n",
        "\n",
        "    return dw1, db1, dw2, db2\n",
        "\n",
        "  def fit(self, x, y):\n",
        "\n",
        "\n",
        "\n",
        "    for i in range(self.num_epochs):\n",
        "      dw1, db1, dw2, db2 = self.backward_pass(x, y)\n",
        "      # Get Params\n",
        "\n",
        "      params= self.params\n",
        "\n",
        "      params[\"w1\"]= params[\"w1\"] - (self.lr*dw1)\n",
        "      params[\"b1\"]= params[\"b1\"]- (self.lr*db1)\n",
        "\n",
        "      params[\"w2\"]= params[\"w2\"] - (self.lr*dw2)\n",
        "      params[\"b2\"]= params[\"b2\"]- (self.lr*db2)\n",
        "\n",
        "          # Get the Train Loss\n",
        "      z1, a1, z2, a2 = self.forward_pass(x)\n",
        "\n",
        "        #Compute the loss\n",
        "      loss_train = self.cross_entropy(y,a2)\n",
        "      self.cost_train.append(loss_train)\n",
        "\n",
        "     \n",
        "      \n",
        "\n",
        "  \n",
        "    \n",
        "  \n",
        "  def get_class(self, x):\n",
        "    w1, b1, w2, b2= self.params['w1'], self.params['b1'], self.params['w2'], self.params['b2']\n",
        "    _,_,_,proba= self.forward_pass(x) \n",
        "    proba= proba.squeeze(0)\n",
        "    result= [1 if i> threshold else 0 for i in proba] # Convert proba to 0 or 1. hint: list comprehension\n",
        "    return np.array(result), proba\n",
        "\n",
        "  def accuracy(self, y,y_pred):\n",
        "    return np.mean(y == y_pred)*100\n",
        "  def plot(self):\n",
        "    plt.xlabel('Epochs')\n",
        "    plt.ylabel('Cost')\n",
        "    plt.plot(np.arange(len(self.cost_train)), self.cost_train, 'r', linewidth = \"2\", label= 'Train Loss')\n",
        "    plt.legend()\n",
        "    plt.show()"
      ],
      "metadata": {
        "id": "YtAjnH9x2QCe"
      },
      "execution_count": 466,
      "outputs": []
    },
    {
      "cell_type": "code",
      "source": [
        "size= [x_train.shape[1], 16, 1]\n",
        "model= NN(x_test, y_test, size, num_epochs= 2000, lr= 0.001)"
      ],
      "metadata": {
        "id": "9cH4O9nO2hnI"
      },
      "execution_count": 467,
      "outputs": []
    },
    {
      "cell_type": "code",
      "source": [
        "model.fit(x_train, y_train)"
      ],
      "metadata": {
        "id": "X_p1jP592kBF"
      },
      "execution_count": 468,
      "outputs": []
    },
    {
      "cell_type": "code",
      "source": [
        "model.plot()"
      ],
      "metadata": {
        "colab": {
          "base_uri": "https://localhost:8080/",
          "height": 282
        },
        "id": "rwoOWZR_2oqv",
        "outputId": "aef2a989-421e-465c-b728-a43e6ab36659"
      },
      "execution_count": 469,
      "outputs": [
        {
          "output_type": "display_data",
          "data": {
            "text/plain": [
              "<Figure size 432x288 with 1 Axes>"
            ],
            "image/png": "[encoded data removed]"
          },
          "metadata": {
            "needs_background": "light"
          }
        }
      ]
    },
    {
      "cell_type": "code",
      "source": [
        "y_pred= model.get_class(x_test)\n",
        "\n",
        "y_pred"
      ],
      "metadata": {
        "colab": {
          "base_uri": "https://localhost:8080/"
        },
        "id": "vykN3yqw2sNZ",
        "outputId": "de0bc648-6a15-40d1-e2a2-987140f6125d"
      },
      "execution_count": 470,
      "outputs": [
        {
          "output_type": "execute_result",
          "data": {
            "text/plain": [
              "(array([0, 0, 0, 0, 0, 0, 0, 0, 0, 0, 0, 0, 0, 0, 0, 0, 0, 0, 0, 0, 0, 0,\n",
              "        0, 0, 0, 0, 0, 0, 0, 0, 0, 0, 0, 0, 0, 0, 0, 0, 0, 0, 0, 0, 0, 0,\n",
              "        0, 0, 0, 0, 0, 0, 0, 0, 0, 0, 0, 0, 0, 0, 0, 0, 0, 0, 0, 0, 0, 0,\n",
              "        0, 0, 0, 0, 0, 0, 0, 0, 0, 0, 0, 0, 0, 0, 0, 0, 0, 0, 0, 0, 0, 0,\n",
              "        0, 0, 0, 0, 0, 0, 0, 0, 0, 0, 0, 0, 0, 0, 0, 0, 0, 0, 0, 0, 0, 0,\n",
              "        0, 0, 0, 0, 0, 0, 0, 0, 0, 0, 0, 0, 0, 0, 0, 0, 0, 0, 0, 0, 0, 0,\n",
              "        0, 0, 0, 0, 0, 0, 0, 0, 0, 0, 0, 0, 0, 0, 0, 0, 0, 0, 0, 0, 0, 0]),\n",
              " array([0.36513086, 0.36479426, 0.36363927, 0.36434106, 0.36296167,\n",
              "        0.3640089 , 0.36314945, 0.36476164, 0.36340115, 0.3646563 ,\n",
              "        0.36407435, 0.36376308, 0.36364414, 0.36627495, 0.36489376,\n",
              "        0.3641839 , 0.3643671 , 0.36491103, 0.36250721, 0.36641623,\n",
              "        0.36388494, 0.3646659 , 0.36461151, 0.36429526, 0.36354979,\n",
              "        0.36360896, 0.3636713 , 0.36368355, 0.3645647 , 0.36491375,\n",
              "        0.36533055, 0.36477097, 0.36411571, 0.36229206, 0.36311894,\n",
              "        0.36410392, 0.36378004, 0.36394818, 0.36398841, 0.36419603,\n",
              "        0.36357908, 0.36412574, 0.36317655, 0.36411984, 0.36337369,\n",
              "        0.36447096, 0.36427752, 0.36418859, 0.36374328, 0.3639428 ,\n",
              "        0.36369755, 0.36213339, 0.36426249, 0.36431269, 0.36465037,\n",
              "        0.36423512, 0.36431301, 0.3645524 , 0.36307345, 0.36320896,\n",
              "        0.36429559, 0.36314078, 0.36463484, 0.36363329, 0.36445853,\n",
              "        0.3637647 , 0.36403231, 0.36450709, 0.36390942, 0.36427925,\n",
              "        0.36430412, 0.36436162, 0.36395394, 0.36432868, 0.36458725,\n",
              "        0.36428109, 0.36536528, 0.36438005, 0.36435756, 0.36468009,\n",
              "        0.36374468, 0.36431263, 0.36469844, 0.36411363, 0.36490453,\n",
              "        0.36387848, 0.36358158, 0.36643809, 0.36451122, 0.36427277,\n",
              "        0.36295336, 0.36432352, 0.36470513, 0.36429699, 0.36428332,\n",
              "        0.36375177, 0.36496126, 0.36312893, 0.36361545, 0.36386419,\n",
              "        0.36449569, 0.36463384, 0.36264398, 0.36399759, 0.36371663,\n",
              "        0.36330733, 0.36495209, 0.3630958 , 0.36354901, 0.36463192,\n",
              "        0.36477776, 0.36376241, 0.36479046, 0.36391628, 0.36410627,\n",
              "        0.36476184, 0.36646468, 0.36367341, 0.36476426, 0.36465285,\n",
              "        0.36361337, 0.36346038, 0.36290788, 0.36310017, 0.36431909,\n",
              "        0.36408887, 0.36398917, 0.36384198, 0.36345967, 0.36456478,\n",
              "        0.36517808, 0.36301432, 0.36439953, 0.364307  , 0.3640571 ,\n",
              "        0.36346935, 0.36382225, 0.36326867, 0.36393996, 0.36431612,\n",
              "        0.36462721, 0.36417179, 0.3650823 , 0.36358281, 0.36453674,\n",
              "        0.36350046, 0.36408825, 0.36348679, 0.36450844, 0.36282483,\n",
              "        0.36455586, 0.36470685, 0.36421114, 0.36414557]))"
            ]
          },
          "metadata": {},
          "execution_count": 470
        }
      ]
    },
    {
      "cell_type": "code",
      "source": [
        "model.accuracy(y_pred, y_test)"
      ],
      "metadata": {
        "colab": {
          "base_uri": "https://localhost:8080/"
        },
        "id": "XUe7moBv2uWN",
        "outputId": "cd380ef2-7c2e-4c6e-9c94-2e4412d8b947"
      },
      "execution_count": 471,
      "outputs": [
        {
          "output_type": "execute_result",
          "data": {
            "text/plain": [
              "34.090909090909086"
            ]
          },
          "metadata": {},
          "execution_count": 471
        }
      ]
    },
    {
      "cell_type": "code",
      "source": [],
      "metadata": {
        "id": "ZpQ0vQGo3GVb"
      },
      "execution_count": 455,
      "outputs": []
    }
  ]
}